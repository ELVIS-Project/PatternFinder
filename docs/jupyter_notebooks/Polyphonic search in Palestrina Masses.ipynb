{
 "cells": [
  {
   "cell_type": "code",
   "execution_count": 8,
   "metadata": {
    "collapsed": true
   },
   "outputs": [],
   "source": [
    "import os\n",
    "import path\n",
    "import music21\n",
    "from patternfinder import geometric_helsinki\n",
    "\n",
    "PALESTRINA_CORPUS = 'music_files/corpus/Palestrina'"
   ]
  },
  {
   "cell_type": "markdown",
   "metadata": {},
   "source": [
    "In the Willaert madrigal “Amor, mi fa morire,” there is an unusual two-chord progression which occurs four times, and a fifth time transposed. It has an antique-sounding double-leading-tone cadence in the bottom three voices. Can we confirm its rarity by searching for it among Palestrina masses?"
   ]
  },
  {
   "cell_type": "code",
   "execution_count": 9,
   "metadata": {
    "scrolled": false
   },
   "outputs": [
    {
     "data": {
      "image/png": "[encoded data removed]",
      "text/plain": [
       "<IPython.core.display.Image object>"
      ]
     },
     "metadata": {
      "image/png": {
       "height": 56,
       "width": 193
      }
     },
     "output_type": "display_data"
    }
   ],
   "source": [
    "query = music21.stream.Stream()\n",
    "query.insert(0, music21.chord.Chord(['C4', 'E4', 'A4', 'C5']))\n",
    "query.insert(1, music21.chord.Chord(['B-3', 'F4', 'B-4', 'D5']))\n",
    "query.show()"
   ]
  },
  {
   "cell_type": "markdown",
   "metadata": {
    "collapsed": true
   },
   "source": [
    "For this search, we use a 'warped' scale, so that the chords can be found given any rhythmic modification."
   ]
  },
  {
   "cell_type": "code",
   "execution_count": 13,
   "metadata": {
    "collapsed": true
   },
   "outputs": [],
   "source": [
    "#for mass_path in music21.corpus.getComposer('Palestrina'): # music21 Palestrina corpus\n",
    "for mass_path in [mass_file for mass_file in os.listdir(PALESTRINA_CORPUS) if mass_file[-3:] == 'xml']: # Local Palestrina corpus\n",
    "\n",
    "    # Get an occurrence generator\n",
    "    mass_finder = geometric_helsinki.Finder(query, os.path.join(PALESTRINA_CORPUS, mass_path),\n",
    "                                           threshold='all',\n",
    "                                           scale='warped',\n",
    "                                           source_window=5)\n",
    "    \n",
    "    # Colour all occurrences red in the score\n",
    "    for occurrence in mass_finder:\n",
    "        occurrence.color_source_notes('red')\n",
    "    \n",
    "    # Output scores that have any coloring\n",
    "    if any(n.style.color for n in mass_finder.source.flat.notes):\n",
    "        # Score is stored as an attribute in the Finder object when the constructor input is a file path rather than stream object\n",
    "        output = mass_finder.source.write('lily.pdf')\n",
    "        # Rename output and include the settings used in the search\n",
    "        os.rename(output, os.path.join('music_files', 'two_chord_data', \"_\".join([\n",
    "            't' + str(mass_finder.settings['threshold'].user),\n",
    "            's' + str(mass_finder.settings['scale'].user),\n",
    "            os.path.basename(mass_path)[:-3] + 'pdf'])))"
   ]
  },
  {
   "cell_type": "markdown",
   "metadata": {},
   "source": []
  },
  {
   "cell_type": "code",
   "execution_count": null,
   "metadata": {
    "collapsed": true
   },
   "outputs": [],
   "source": []
  }
 ],
 "metadata": {
  "kernelspec": {
   "display_name": "Python 2",
   "language": "python",
   "name": "python2"
  },
  "language_info": {
   "codemirror_mode": {
    "name": "ipython",
    "version": 2
   },
   "file_extension": ".py",
   "mimetype": "text/x-python",
   "name": "python",
   "nbconvert_exporter": "python",
   "pygments_lexer": "ipython2",
   "version": "2.7.12"
  }
 },
 "nbformat": 4,
 "nbformat_minor": 2
}
