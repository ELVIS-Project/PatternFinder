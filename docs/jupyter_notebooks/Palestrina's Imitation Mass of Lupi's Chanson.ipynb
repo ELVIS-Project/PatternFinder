{
 "cells": [
  {
   "cell_type": "markdown",
   "metadata": {
    "collapsed": true
   },
   "source": [
    "Welcome to PatternFinder! In this JupyterNotebook, we're going to poke around some Renaissance imitation masses.\n",
    "\n",
    "We'll start by introducing the 'Finder' object. Each family of content-based retrieval algorithms implemented in PatternFinder has a Finder object responsible for their execution. In this notebook, we use a group of geometric algorithms developed at the University of Helsinki.\n",
    "\n",
    "Additionally, PatternFinder is built on top of music21, which we rely on for various music processing tasks, so we'll import that too."
   ]
  },
  {
   "cell_type": "code",
   "execution_count": 1,
   "metadata": {},
   "outputs": [],
   "source": [
    "import music21\n",
    "from patternfinder import geometric_helsinki"
   ]
  },
  {
   "cell_type": "markdown",
   "metadata": {
    "collapsed": true
   },
   "source": [
    "Finder objects are generators. They receive as input a 'pattern' and a 'source', and then yield occurrences of the pattern within the source."
   ]
  },
  {
   "cell_type": "code",
   "execution_count": 2,
   "metadata": {},
   "outputs": [],
   "source": [
    "palestrina_kyrie_path = 'patternfinder/music_files/lupi/Missa-Je-suis-desheritee-Palestrina_Kyrie.krn'\n",
    "lassus_kyrie_path = 'patternfinder/music_files/lupi/Missa-Je-suis-desheritee-Lassus_Kyrie.xml'\n",
    "lupi_chanson_path = 'patternfinder/music_files/lupi/Je_suys_desheritee.xml'\n",
    "\n",
    "foo = geometric_helsinki.Finder()"
   ]
  },
  {
   "cell_type": "markdown",
   "metadata": {},
   "source": [
    "Imitation masses are pieces which borrow melodic or contrapuntal material from another work. Both Palestrina and Lassus wrote imitation masses using Lupi's \"Je Suys Desheritee\" chanson as a model.\n",
    "\n",
    "Schubert and Lessoil-Daelman wrote an MTO article investigating these imitation masses. They define a 'module' as a contrapuntal unit which repeats within the same work. In their analysis, they found modules within Lupi's chanson and investigated where and how they occurred in Palestrina's and Lassus' Kyrie. \n",
    "\n",
    "By using Schubert and Lessoil-Daelman's analysis of modules within Lupi's chanson, we can extract a number of polyphonic patterns to search for in Palestrina and Lassus' masses.\n",
    "\n",
    "We'll start with module A1. This occurs at the beginning of Lupi's chanson, in the first three measures between the Tenor and the Bass. We extract it from the score with music21."
   ]
  },
  {
   "cell_type": "code",
   "execution_count": 3,
   "metadata": {
    "collapsed": true
   },
   "outputs": [],
   "source": [
    "lupi_chanson = music21.converter.parse(lupi_chanson_path)\n",
    "module_A1 = music21.stream.Stream(\n",
    "    (lupi_chanson.measures(1,3).parts['Bass'], lupi_chanson.measures(1,3).parts['Tenor']))\n",
    "\n",
    "output_path = module_A1.show('lily')"
   ]
  },
  {
   "cell_type": "markdown",
   "metadata": {},
   "source": [
    "![image]output_path\n",
    "\n",
    "Let's look for module A1 in both the Palestrina and Lassus masses. When we find something relevant, we'll color it in red."
   ]
  },
  {
   "cell_type": "code",
   "execution_count": null,
   "metadata": {},
   "outputs": [],
   "source": [
    "foo.update(\n",
    "    pattern=module_A1,\n",
    "    threshold = 0.9,\n",
    "    scale = 'warped',\n",
    "    pattern_window = 3,\n",
    "    source_window = 5)\n",
    "for score in (palestrina_kyrie_path, lassus_kyrie_path):\n",
    "    foo.update(source=score)\n",
    "    for occ in foo:\n",
    "        for note in occ.source_notes:\n",
    "            note.color = 'red'\n",
    "    foo.source.show('lily')"
   ]
  },
  {
   "cell_type": "markdown",
   "metadata": {},
   "source": [
    "These are pieces which have borrowed melodic or contrapuntal material from another work. \n",
    "Two Renaissance composers, Palestrina and Lassus, wrote imitation masses borrowing material from Lupi's (a third composer) famous chanson \"Je Suys Desheritee\".y"
   ]
  },
  {
   "cell_type": "code",
   "execution_count": null,
   "metadata": {
    "collapsed": true
   },
   "outputs": [],
   "source": []
  }
 ],
 "metadata": {
  "kernelspec": {
   "display_name": "Python 2",
   "language": "python",
   "name": "python2"
  },
  "language_info": {
   "codemirror_mode": {
    "name": "ipython",
    "version": 2
   },
   "file_extension": ".py",
   "mimetype": "text/x-python",
   "name": "python",
   "nbconvert_exporter": "python",
   "pygments_lexer": "ipython2",
   "version": "2.7.12"
  }
 },
 "nbformat": 4,
 "nbformat_minor": 2
}
